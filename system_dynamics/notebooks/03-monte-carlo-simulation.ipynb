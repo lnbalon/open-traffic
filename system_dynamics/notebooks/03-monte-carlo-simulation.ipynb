{
 "cells": [
  {
   "cell_type": "markdown",
   "metadata": {},
   "source": [
    "### Monte Carlo, Probability, and Expected Value\n",
    "\n",
    "My difficulty in understanding probability and statistics motivated me to write this notebook. I once worked for a casino, and every time a client wins inordinate amount of money, the management panics and tasks us lowly analysts to start crunching numbers on the probability of cheating. While others start searching for formulas, I had a secret weapon: I can model any scenario using Monte Carlo simulation. Make no mistake, knowing the statistical odds helps, but for demonstration purposes, nothing beats MC. For one, probability distribution curves drawn from a formula confuses the shit out of non-mathematically inclined stakeholders. Secondly, once you know how to model an event using MC, the chances of committing an error decreases significantly versus mishandling a binomial distribution formula. \n",
    "\n",
    "I will demonstrate the power of MC using a simple casino game: sic-bo (to the unsophisticated slapsoils sic-bo is similar to color game in your friendly neighborhood peryahan). For starters the role of game is simple: there are three dice (or die???? Fuck me. I cannot figure out the plural of dice. All I know is dices aint it, so I'm going along with die). We roll those die and bet on the outcome. For  our sake let us focus on the six most common bets: the numbers that will come out. You can bet from one to six. The casino gives you an equal amount to your bet if your number comes up, it gives you double if there are two die with your number, and thrice the amount if all dice matches your number.\n",
    "\n",
    "We knew the expected value from this bet:\n",
    "\n",
    "$ EV = chances of hitting 1 dice * winnings + chances of hitting 2 die * winnings + chances of winning 3 die * winnings - chances of not hitting anything * loss $\n",
    "\n",
    "$ chance of hitting 1 dice = (1/6) * (5/6) * (5/6) $\n",
    "\n",
    "$ chance of hitting 2 die = (1/6) * (5/6) * (5/6) $\n",
    "\n",
    "$ chance of hitting 3 die = (1/6) * (1/6) * (1/6) $\n",
    "\n",
    "$ [(75/216)(1) + (15/216)(2) + (1/216)(3) + (125/216)(-1)] = -0.08 $\n",
    "\n",
    "Therefore if you bet 1 peso, you are expected to lose 0.08 cents per bet.\n",
    "\n",
    "With that in mind, let's code the motherfucker. "
   ]
  },
  {
   "cell_type": "code",
   "execution_count": 43,
   "metadata": {},
   "outputs": [],
   "source": [
    "import random\n",
    "import numpy as np\n",
    "import matplotlib.pyplot as plt\n",
    "import seaborn as sns\n",
    "from collections import Counter"
   ]
  },
  {
   "cell_type": "code",
   "execution_count": 44,
   "metadata": {},
   "outputs": [],
   "source": [
    "def roll_dice():\n",
    "\n",
    "    return random.randrange(1,7)\n",
    "\n",
    "def sic_bo():\n",
    "\n",
    "    return roll_dice(), roll_dice(), roll_dice()\n",
    "\n",
    "def simulate_games(n_games):\n",
    "    result = []\n",
    "\n",
    "    for i in range(n_games):\n",
    "        j,k,l = sic_bo()\n",
    "        result.append(Counter([j,k,l]))\n",
    "    \n",
    "    return result\n",
    "\n",
    "def simulate_win_loss(bet_amount, num, n_games):\n",
    "    result = simulate_games(n_games)\n",
    "    winnings = 0\n",
    "    for i in result:\n",
    "        if num in i:\n",
    "            winnings += bet_amount * i[num]\n",
    "        else:\n",
    "            winnings -= bet_amount\n",
    "\n",
    "    return winnings"
   ]
  },
  {
   "cell_type": "code",
   "execution_count": 45,
   "metadata": {},
   "outputs": [
    {
     "data": {
      "text/plain": [
       "-100"
      ]
     },
     "execution_count": 45,
     "metadata": {},
     "output_type": "execute_result"
    }
   ],
   "source": [
    "simulate_win_loss(bet_amount=100, num=2, n_games=1)"
   ]
  },
  {
   "cell_type": "markdown",
   "metadata": {},
   "source": [
    "Let us simulate 1000 visits to the casino where in each visit you bet 100 pesos on your favorite number (2) for 100 times. \n",
    "\n",
    "Applying the expected value, you expect to lose 8 peso per bet, which per visit amounts to 800 pesos. The genius of gaming is, you will not always go home a loser, and those few times that you win will encourage you to come back for more. And in the extereme cases where you become a degenerate gambler, even the near wins couns as a win in your mind. (insert citation)."
   ]
  },
  {
   "cell_type": "code",
   "execution_count": 55,
   "metadata": {},
   "outputs": [],
   "source": [
    "result = []\n",
    "for i in range(1000):\n",
    "    result.append(simulate_win_loss(100, 2, 100))"
   ]
  },
  {
   "cell_type": "code",
   "execution_count": 56,
   "metadata": {},
   "outputs": [
    {
     "data": {
      "text/plain": [
       "(-4000, 3500, -741.9)"
      ]
     },
     "execution_count": 56,
     "metadata": {},
     "output_type": "execute_result"
    }
   ],
   "source": [
    "min(result), max(result), np.mean(result)"
   ]
  },
  {
   "cell_type": "code",
   "execution_count": 57,
   "metadata": {},
   "outputs": [
    {
     "data": {
      "image/png": "[encoded data removed]",
      "text/plain": [
       "<Figure size 432x288 with 1 Axes>"
      ]
     },
     "metadata": {
      "needs_background": "light"
     },
     "output_type": "display_data"
    }
   ],
   "source": [
    "sns.histplot(result, kde=True)\n",
    "plt.show()"
   ]
  },
  {
   "cell_type": "code",
   "execution_count": 58,
   "metadata": {},
   "outputs": [
    {
     "data": {
      "text/plain": [
       "236"
      ]
     },
     "execution_count": 58,
     "metadata": {},
     "output_type": "execute_result"
    }
   ],
   "source": [
    "len([x for x in result if x>0])"
   ]
  },
  {
   "cell_type": "code",
   "execution_count": 59,
   "metadata": {},
   "outputs": [
    {
     "data": {
      "text/plain": [
       "727"
      ]
     },
     "execution_count": 59,
     "metadata": {},
     "output_type": "execute_result"
    }
   ],
   "source": [
    "len([x for x in result if x<0])"
   ]
  },
  {
   "cell_type": "code",
   "execution_count": 60,
   "metadata": {},
   "outputs": [
    {
     "data": {
      "text/plain": [
       "37"
      ]
     },
     "execution_count": 60,
     "metadata": {},
     "output_type": "execute_result"
    }
   ],
   "source": [
    "len([x for x in result if x==0])"
   ]
  },
  {
   "cell_type": "code",
   "execution_count": 5,
   "metadata": {},
   "outputs": [
    {
     "data": {
      "text/plain": [
       "(-814.8, 2700, -3900)"
      ]
     },
     "execution_count": 5,
     "metadata": {},
     "output_type": "execute_result"
    }
   ],
   "source": [
    "np.mean(result), max(result), min(result)"
   ]
  },
  {
   "cell_type": "markdown",
   "metadata": {},
   "source": [
    "The result of the MC simulation shows that your average visit yielded a loss of -823.7. However, there was a day you went home with 2900 in winnings and a day where you went home poorer by 4100 pesos. "
   ]
  },
  {
   "cell_type": "markdown",
   "metadata": {},
   "source": [
    "As demonstrated, a Python code with less than a hundred lines replicated a model of a casino game. The statistical solution is full of formula (boriiiinggggg) while the MC simulation can be visualized and easily explained with just 36 lines of code. \n",
    "\n",
    "The power of MC shows itself when trying multiple what ifs? What if a player also randomly varies his bet from 500 to 1000 in multiples of 100? With a few lines of code we can show that.The power of MC shows itself when trying multiple what ifs? What if a player also randomly varies his bet from 500 to 1000 in multiples of 100? With a few lines of code we can show that.\n",
    "\n",
    "Good luck answering those questions with a stat book. I bet even a stat PhD will take at least an hour to solve it using pen and paper, and the solution will be full of signs and symbols that will scare the hell out of a casino manager. "
   ]
  },
  {
   "cell_type": "code",
   "execution_count": 6,
   "metadata": {},
   "outputs": [],
   "source": [
    "# scenario: a player randomly changes his betting from 500 to 1000 in multiples of 100. \n",
    "# modify the simulate_win_loss function.\n",
    "\n",
    "def simulate_win_loss2(num, n_games):\n",
    "    result = simulate_games(n_games)\n",
    "    winnings = 0\n",
    "    for i in result:\n",
    "        # random betting\n",
    "        bet_amount = random.randrange(5,11) * 100\n",
    "        if num in i:\n",
    "            winnings += bet_amount * i[num]\n",
    "        else:\n",
    "            winnings -= bet_amount\n",
    "\n",
    "    return winnings\n",
    "\n",
    "result2 = []\n",
    "for i in range(1000):\n",
    "    winnings = simulate_win_loss2(2, 100)\n",
    "    result2.append(winnings)"
   ]
  },
  {
   "cell_type": "code",
   "execution_count": 7,
   "metadata": {},
   "outputs": [
    {
     "data": {
      "text/plain": [
       "(-6094.5, -38100, 21800)"
      ]
     },
     "execution_count": 7,
     "metadata": {},
     "output_type": "execute_result"
    }
   ],
   "source": [
    "np.mean(result2), min(result2), max(result2)"
   ]
  },
  {
   "cell_type": "code",
   "execution_count": 8,
   "metadata": {},
   "outputs": [],
   "source": [
    "# scenario: a player bets 100 per game, but selects a different number each time\n",
    "# modify the simulate_win_loss function.\n",
    "\n",
    "def simulate_win_loss2(n_games, bet_amount):\n",
    "    result = simulate_games(n_games)\n",
    "    winnings = 0\n",
    "    for i in result:\n",
    "        # random betting\n",
    "        num = random.randrange(1,7)\n",
    "        if num in i:\n",
    "            winnings += bet_amount * i[num]\n",
    "        else:\n",
    "            winnings -= bet_amount\n",
    "\n",
    "    return winnings\n",
    "\n",
    "result3 = []\n",
    "for i in range(1000):\n",
    "    winnings = simulate_win_loss2(100, 100)\n",
    "    result3.append(winnings)"
   ]
  },
  {
   "cell_type": "code",
   "execution_count": 9,
   "metadata": {},
   "outputs": [
    {
     "data": {
      "text/plain": [
       "(-770.0, -3800, 2700)"
      ]
     },
     "execution_count": 9,
     "metadata": {},
     "output_type": "execute_result"
    }
   ],
   "source": [
    "np.mean(result3), min(result3), max(result3)"
   ]
  },
  {
   "cell_type": "markdown",
   "metadata": {},
   "source": [
    "The result is still close to 800 loss per visit since each game is independent from the previous games. "
   ]
  },
  {
   "cell_type": "markdown",
   "metadata": {},
   "source": [
    "To recap, a random system can be modeled using MC even without knowing stat if all scenarios can be accounted for. In the case of our example, we turned the rules of a casino game into code. We then used the power of for loops to generate millions of samples and obtained our conclusion from it. "
   ]
  },
  {
   "cell_type": "code",
   "execution_count": 111,
   "metadata": {},
   "outputs": [],
   "source": [
    "def spin_wheel():\n",
    "    \n",
    "    return random.randrange(0,37)\n",
    "\n",
    "def red_black():\n",
    "    \n",
    "    number = spin_wheel()\n",
    "\n",
    "    if number == 0:       \n",
    "        return None\n",
    "    else: \n",
    "        if number % 2 == 0:\n",
    "            return \"red\"\n",
    "        else:\n",
    "            return \"black\"\n",
    "        \n",
    "def play_roulette(bet_amount, color):\n",
    "    \n",
    "    value = red_black()\n",
    "    \n",
    "    if value == None:\n",
    "        return -bet_amount\n",
    "    elif color != value:\n",
    "        return -bet_amount\n",
    "    else:\n",
    "        return bet_amount\n",
    "    \n",
    "def play_roulette2(bet_amount):\n",
    "    \n",
    "    value = red_black()\n",
    "    color_dict = {1: 'red', 2: 'black'}\n",
    "    color = color_dict[random.randrange(1,3)]\n",
    "    \n",
    "    if value == None:\n",
    "        return -bet_amount\n",
    "    elif color != value:\n",
    "        return -bet_amount\n",
    "    else:\n",
    "        return bet_amount\n",
    "    \n",
    "\n",
    "def casino_visit(bet_amount, color, n_games):\n",
    "    \n",
    "    winnings = 0\n",
    "    for i in range(n_games):\n",
    "        winnings += play_roulette2(bet_amount)\n",
    "        \n",
    "    return winnings"
   ]
  },
  {
   "cell_type": "markdown",
   "metadata": {},
   "source": [
    "100 games per visit, bet on red, amount 100"
   ]
  },
  {
   "cell_type": "code",
   "execution_count": 115,
   "metadata": {},
   "outputs": [
    {
     "data": {
      "text/plain": [
       "-332.8"
      ]
     },
     "execution_count": 115,
     "metadata": {},
     "output_type": "execute_result"
    }
   ],
   "source": [
    "result = []\n",
    "for i in range(1000):\n",
    "    result.append(casino_visit(100, 'red', 100))\n",
    "    \n",
    "np.mean(result)"
   ]
  },
  {
   "cell_type": "code",
   "execution_count": 79,
   "metadata": {},
   "outputs": [
    {
     "data": {
      "text/plain": [
       "-0.027027027027026973"
      ]
     },
     "execution_count": 79,
     "metadata": {},
     "output_type": "execute_result"
    }
   ],
   "source": [
    "(18/37) * 1 - (19/37) * 1"
   ]
  },
  {
   "cell_type": "code",
   "execution_count": 107,
   "metadata": {},
   "outputs": [
    {
     "data": {
      "image/png": "[encoded data removed]",
      "text/plain": [
       "<Figure size 432x288 with 1 Axes>"
      ]
     },
     "metadata": {
      "needs_background": "light"
     },
     "output_type": "display_data"
    }
   ],
   "source": [
    "sns.histplot(result, kde=True)\n",
    "plt.show()"
   ]
  },
  {
   "cell_type": "code",
   "execution_count": null,
   "metadata": {},
   "outputs": [],
   "source": []
  }
 ],
 "metadata": {
  "kernelspec": {
   "display_name": "Python 3",
   "language": "python",
   "name": "python3"
  },
  "language_info": {
   "codemirror_mode": {
    "name": "ipython",
    "version": 3
   },
   "file_extension": ".py",
   "mimetype": "text/x-python",
   "name": "python",
   "nbconvert_exporter": "python",
   "pygments_lexer": "ipython3",
   "version": "3.8.5"
  }
 },
 "nbformat": 4,
 "nbformat_minor": 4
}
