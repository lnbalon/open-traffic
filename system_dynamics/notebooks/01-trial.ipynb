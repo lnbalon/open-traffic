{
 "cells": [
  {
   "cell_type": "markdown",
   "metadata": {},
   "source": [
    "### System Dynamics Exercise\n",
    "\n",
    "#### Impact of Raising MRT Fare on Average Travel time of EDSA Commuters\n",
    "\n",
    "**Assumptions:**\n",
    "\n",
    "1. There are multiple ways people are transported in EDSA: private vehicles, buses, MRT, vans, taxis, and Grab.\n",
    "2. MRT riders are lower income riders. We propose an inverse relationship between propensity to ride MRT and average daily wage. \n",
    "3. The main reason commuters choose MRT is its low fare. Conversely, riders reject MRT due to overcrowding. \n",
    "4. We propose a inverse proportional relationship between MRT occupancy and fare (i.e. as the fare increases occupancy decreases). \n",
    "5. We also propose a linear relationship between occupancy rate in increase in middle income ridership in MRT.\n",
    "6. We assume that high income commuters will always use their cars. \n",
    "7. We assume that higher demand for buses will increase the number of buses (obvious).\n",
    "8. We assume that middle income riders will take MRT and not use private vehicles to travel. \n",
    "9. We assume the following mix of EDSA commuters: 10% high income, 40% middle income, and 50% low income.\n",
    "10. The total number of MRT rides is unchanged.\n",
    "11. The fare for buses remains the same. \n",
    "12. The fare for taxi is constant. \n",
    "\n",
    "**Hypothesis:**\n",
    "\n",
    " 1. Increasing MRT fare will decrease the average travel time per person in EDSA\n",
    "\n",
    "**Rationale:** \n",
    "\n",
    "1. An increase in fare will force lower income riders to use buses.\n",
    "2. Shifting ridership of lower income commuters to buses will decongest MRT encouraging middle income riders to use it.\n",
    "3. Increasing middle income ridership in MRT decreases the number of private vehicles, taxis, and Grabs in EDSA decreasing the travel time for every commuter. \n",
    "\n",
    "**Equations:**\n",
    "\n",
    "1. average_travel_time = summation(travel_time of each rider) / total number of riders\n",
    "2. travel_time_buses is proportional to number of buses + number of cars + number of Grabs + number of taxis\n",
    "3. travel_time_car  is proportional to number of buses + number of cars + number of Grabs + number of taxis \n",
    "4. travel_time_Grabs is proportional to number of buses + number of cars + number of Grabs + number of taxis\n",
    "5. travel_time_taxis is proportional to number of buses + number of cars + number of Grabs + number of taxis\n",
    "6. travel_time_mrt is constant"
   ]
  },
  {
   "cell_type": "code",
   "execution_count": null,
   "metadata": {},
   "outputs": [],
   "source": []
  }
 ],
 "metadata": {
  "kernelspec": {
   "display_name": "Python 3",
   "language": "python",
   "name": "python3"
  },
  "language_info": {
   "codemirror_mode": {
    "name": "ipython",
    "version": 3
   },
   "file_extension": ".py",
   "mimetype": "text/x-python",
   "name": "python",
   "nbconvert_exporter": "python",
   "pygments_lexer": "ipython3",
   "version": "3.8.5"
  }
 },
 "nbformat": 4,
 "nbformat_minor": 4
}
