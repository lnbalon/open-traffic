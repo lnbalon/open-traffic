{
 "cells": [
  {
   "cell_type": "markdown",
   "metadata": {},
   "source": [
    "## System Dynamics Exercise\n",
    "\n",
    "### Impact of Raising Rail Fare on Average Travel Time for a Major Road in a Highly Urbanized City of a Developing Country\n",
    "\n",
    "#### Background\n",
    "\n",
    "For this exercise, we created a hypothetical scenario to demonstrate a system dynamics application in policy making. \n",
    "\n",
    "Consider a major road (for this exercise we simply refer to it as \"R1\") in a highly urbanized city of a third world country with a length of 12 kilometers. R1 serves 800,000 commuters during the peak travel time of 6 to 9am and 4 to 8pm from Monday to Friday. There are four types of vehicles in R1 according to capacity: buses, vans, and cars. Buses and vans are public utilities that can carry 80, and 16 people, respectively. Cars on the other hand are further categorized into two: private cars and taxis (ride sharing is lumped with taxis in this scenario) which on average can only handle three passengers. Running on the middle of R1 is a railway system that can handle 430 person spread along eight cars. We call the railway system \"R2\". \n",
    "\n",
    "Consider also that of the 800,000 commuters a majority are from low income (LI) families (60%). Middle income (MI) and high income (MI) commuters comprise 30%, and 10% of the total, respectively. R2 is government subsidized which keeps its fares low. Too low that it became the preffered mode of transport of lower income commuters. MI commuters prefer buses, vans, their private vehicles, and ride sharing over R2 because of congestion. HI commuters uses their own vehicles.\n",
    "\n",
    "Government regulators are exploring policies that will lower travel time for everyone, and are looking for new ideas. One of this ideas is to lower the number of private vehicles in R1 and force MI riders to R2. To do this, LI riders would be forced to take the bus (an \"anti-poor\" measure) and MI riders in turn would be enticed to take R2. \n",
    "\n",
    "To study whether the proposed intervention will actually result in the desired behavior change, a system dynamic study was commissioned.\n",
    "\n",
    "#### Causal Flow Diagram\n",
    "\n",
    "#### Stock and Flow Model\n",
    "\n",
    "#### Equations\n",
    "\n",
    "The average travel time is defined as:\n",
    "\n",
    "$$ travelTime_{average} = \\frac {\\sum travelTime_{rider}} {totalNumberRiders} $$\n",
    "\n",
    "The travel time for each type of vehicles are defined as proportional to the total number of vehicles in R1. \n",
    "\n",
    "$$ travelTime_{buses} \\alpha (num_{buses} + num_{cars} + num_{vans}) $$\n",
    "$$ travelTime_{vans} \\alpha (num_{buses} + num_{cars} + num_{vans}) $$\n",
    "$$ travelTime_{cars} \\alpha (num_{buses} + num_{cars} + num_{vans}) $$\n",
    "\n",
    "\n",
    "A proportional relationship between fare and the proportion of LI riders using R2 was established. This proportional \n",
    "\n",
    "\n",
    "\n",
    "\n",
    "**Assumptions:**\n",
    "\n",
    "1. There are multiple ways people are transported in EDSA: private vehicles, buses, MRT, vans, taxis, and Grab.\n",
    "2. MRT riders are lower income riders. We propose an inverse relationship between propensity to ride MRT and average daily wage. \n",
    "3. The main reason commuters choose MRT is its low fare. Conversely, riders reject MRT due to overcrowding. \n",
    "4. We propose a inverse proportional relationship between MRT occupancy and fare (i.e. as the fare increases occupancy decreases). \n",
    "5. We also propose a linear relationship between occupancy rate in increase in middle income ridership in MRT.\n",
    "6. We assume that high income commuters will always use their cars. \n",
    "7. We assume that higher demand for buses will increase the number of buses (obvious).\n",
    "8. We assume that middle income riders will take MRT and not use private vehicles to travel. \n",
    "9. We assume the following mix of EDSA commuters: 10% high income, 40% middle income, and 50% low income.\n",
    "10. The total number of MRT rides is unchanged.\n",
    "11. The fare for buses remains the same. \n",
    "12. The fare for taxi is constant. \n",
    "\n",
    "**Hypothesis:**\n",
    "\n",
    " 1. Increasing MRT fare will decrease the average travel time per person in EDSA\n",
    "\n",
    "**Rationale:** \n",
    "\n",
    "1. An increase in fare will force lower income riders to use buses.\n",
    "2. Shifting ridership of lower income commuters to buses will decongest MRT encouraging middle income riders to use it.\n",
    "3. Increasing middle income ridership in MRT decreases the number of private vehicles, taxis, and Grabs in EDSA decreasing the travel time for every commuter. \n",
    "\n",
    "**Equations:**\n",
    "\n",
    "1. average_travel_time = summation(travel_time of each rider) / total number of riders\n",
    "2. travel_time_buses is proportional to number of buses + number of cars + number of Grabs + number of taxis\n",
    "3. travel_time_car  is proportional to number of buses + number of cars + number of Grabs + number of taxis \n",
    "4. travel_time_Grabs is proportional to number of buses + number of cars + number of Grabs + number of taxis\n",
    "5. travel_time_taxis is proportional to number of buses + number of cars + number of Grabs + number of taxis\n",
    "6. travel_time_mrt is constant\n",
    "\n",
    "\n",
    "**Relationships**\n",
    "\n",
    "1. Increase in MRT fare decreases lower income ridership (Assumption: LI commmuters are influenced by fare alone).\n",
    "2. Congestion in MRT decreases middle income ridership (Assumption: MI commuters are influenced by congestion alone).\n",
    "3. The number of buses in EDSA matches the demand (i.e. if passenger increases, so does the buses). \n",
    "4. The total number of vehicles in EDSA influences the aveage travel time (Assumption: road works, events, accidents, etc... are not factored in).\n",
    "5. The total number of vehicles in EDSA are a combination of: buses, private cars, taxis/ride sharing, and vans.\n",
    "6. Middle income riders are ps"
   ]
  },
  {
   "cell_type": "markdown",
   "metadata": {},
   "source": [
    "#### Define Constants"
   ]
  },
  {
   "cell_type": "code",
   "execution_count": 43,
   "metadata": {},
   "outputs": [],
   "source": [
    "import numpy as np"
   ]
  },
  {
   "cell_type": "code",
   "execution_count": 9,
   "metadata": {},
   "outputs": [],
   "source": [
    "CONGESTION_FACTOR_BUS = 1.0\n",
    "CONGESTION_FACTOR_CAR = 0.2\n",
    "CONGESTION_FACTOR_TAXI = 0.2\n",
    "CONGESTION_FACTOR_VAN = 0.35\n",
    "MAX_CARRYING_CAPACITY_BUS = 80\n",
    "MAX_CARRYING_CAPACITY_MRT = 430\n",
    "MAX_CARRYING_CAPACITY_CAR = 4\n",
    "MAX_CARRYING_CAPACITY_TAXI = 3\n",
    "MAX_CARRYING_CAPACITY_VAN = 16"
   ]
  },
  {
   "cell_type": "code",
   "execution_count": 47,
   "metadata": {},
   "outputs": [],
   "source": [
    "TOTAL_CARRYING_CAPACITY = 7000\n",
    "TOTAL_DISTANCE = 30"
   ]
  },
  {
   "cell_type": "code",
   "execution_count": 52,
   "metadata": {},
   "outputs": [],
   "source": [
    "VEHICLE_TYPES = ['Bus', 'Car', 'Taxi', 'Van']"
   ]
  },
  {
   "cell_type": "code",
   "execution_count": 63,
   "metadata": {},
   "outputs": [],
   "source": [
    "SPEED_DICTIONARY = {\n",
    "    'Bus': {'fastest': 50, 'fast': 45, 'average': 40, 'slow': 35, 'crawling': 25, 'grinding': 15},\n",
    "    'Car': {'fastest': 60, 'fast': 55, 'average': 45, 'slow': 40, 'crawling': 25, 'grinding': 15},\n",
    "    'Taxi': {'fastest': 60, 'fast': 55, 'average': 45, 'slow': 40, 'crawling': 25, 'grinding': 15},\n",
    "    'Van': {'fastest': 55, 'fast': 50, 'average': 40, 'slow': 35, 'crawling': 25, 'grinding': 15}\n",
    "}"
   ]
  },
  {
   "cell_type": "code",
   "execution_count": 64,
   "metadata": {},
   "outputs": [],
   "source": [
    "def average_travel_time(travel_times):\n",
    "    \n",
    "    return sum(travel_times) / len(travel_times)"
   ]
  },
  {
   "cell_type": "code",
   "execution_count": 68,
   "metadata": {},
   "outputs": [],
   "source": [
    "def travel_time(n_car, n_bus, n_taxi, n_van, vehicle_type):\n",
    "    \n",
    "    if vehicle_type not in VEHICLE_TYPES:\n",
    "        raise ValueError(f\"enter a correct vehicle type choose from {VEHICLE_TYPES}\")\n",
    "    \n",
    "    # calculate the total congestion\n",
    "    total = (n_car * CONGESTION_FACTOR_CAR)\n",
    "    total += (n_bus * CONGESTION_FACTOR_BUS)\n",
    "    total += (n_taxi * CONGESTION_FACTOR_TAXI)\n",
    "    total += (n_van * CONGESTION_FACTOR_VAN)\n",
    "    \n",
    "    # get the space\n",
    "    space = (TOTAL_CARRYING_CAPACITY - total) / TOTAL_CARRYING_CAPACITY\n",
    "    \n",
    "    speed_dict = SPEED_DICTIONARY[vehicle_type]\n",
    "    \n",
    "    if 0.8 < space < 1.0:\n",
    "        speed = speed_dict['fastest']\n",
    "    elif 0.6 < space <= 0.8:\n",
    "        speed = speed_dict['fast']\n",
    "    elif 0.4 < space <= 0.6:\n",
    "        speed = speed_dict['average']\n",
    "    elif 0.2 < space <= 0.4:\n",
    "        speed = speed_dict['slow']\n",
    "    elif 0.1 < space <= 0.2:\n",
    "        speed = speed_dict['crawling']\n",
    "    elif space < 0.1:\n",
    "        speed = speed_dict['grinding']\n",
    "    \n",
    "    travel_time = (TOTAL_DISTANCE/speed) * 60\n",
    "\n",
    "    return travel_time"
   ]
  },
  {
   "cell_type": "code",
   "execution_count": null,
   "metadata": {},
   "outputs": [],
   "source": []
  },
  {
   "cell_type": "code",
   "execution_count": 66,
   "metadata": {},
   "outputs": [],
   "source": [
    "cars = 10000\n",
    "buses = 4000\n",
    "taxis = 1500\n",
    "vans = 4000"
   ]
  },
  {
   "cell_type": "code",
   "execution_count": 67,
   "metadata": {},
   "outputs": [
    {
     "data": {
      "text/plain": [
       "120.0"
      ]
     },
     "execution_count": 67,
     "metadata": {},
     "output_type": "execute_result"
    }
   ],
   "source": [
    "travel_time(cars, buses, taxis, vans, 'Bus')"
   ]
  },
  {
   "cell_type": "code",
   "execution_count": null,
   "metadata": {},
   "outputs": [],
   "source": []
  },
  {
   "cell_type": "code",
   "execution_count": 1,
   "metadata": {},
   "outputs": [],
   "source": [
    "import numpy as np\n",
    "import matplotlib.pyplot as plt"
   ]
  },
  {
   "cell_type": "markdown",
   "metadata": {},
   "source": [
    "From the baseline data, the proportion of LI commuters using R2 was 0.9 at the current minimum fare of 15.\n",
    "Assume that a survey conducted shows that that proportion decreases to 0.05 at a minimum fare of 100. That decline was also assumed to be exponential. "
   ]
  },
  {
   "cell_type": "code",
   "execution_count": 4,
   "metadata": {},
   "outputs": [],
   "source": [
    "b = np.log(18) / np.log(3/20)\n",
    "a = 0.9 / (15 ** b)"
   ]
  },
  {
   "cell_type": "code",
   "execution_count": 5,
   "metadata": {},
   "outputs": [],
   "source": [
    "fare = list(np.linspace(1,1000,1000))\n",
    "prop_li_ridership_r2 = a * (fare ** b)"
   ]
  },
  {
   "cell_type": "code",
   "execution_count": 33,
   "metadata": {},
   "outputs": [
    {
     "data": {
      "image/png": "[encoded data removed]",
      "text/plain": [
       "<Figure size 432x288 with 1 Axes>"
      ]
     },
     "metadata": {
      "needs_background": "light"
     },
     "output_type": "display_data"
    }
   ],
   "source": [
    "plt.figure()\n",
    "plt.plot(fare, prop_li_ridership_r2)\n",
    "plt.xlim(-10,150)\n",
    "plt.ylim(0,1.5)\n",
    "plt.ylabel(\"Proportion\")\n",
    "plt.xlabel(\"Fare\")\n",
    "plt.title(\"Fare vs. Proportion of LI Ridership of R2\")\n",
    "plt.show()"
   ]
  }
 ],
 "metadata": {
  "kernelspec": {
   "display_name": "Python 3",
   "language": "python",
   "name": "python3"
  },
  "language_info": {
   "codemirror_mode": {
    "name": "ipython",
    "version": 3
   },
   "file_extension": ".py",
   "mimetype": "text/x-python",
   "name": "python",
   "nbconvert_exporter": "python",
   "pygments_lexer": "ipython3",
   "version": "3.8.5"
  }
 },
 "nbformat": 4,
 "nbformat_minor": 4
}
