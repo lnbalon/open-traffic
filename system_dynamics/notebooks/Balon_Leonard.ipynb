{
 "cells": [
  {
   "cell_type": "markdown",
   "metadata": {},
   "source": [
    "### Solutions to Quiz 2 for Algorithms 2 (Monte Carlo Simulation)"
   ]
  },
  {
   "cell_type": "markdown",
   "metadata": {},
   "source": [
    "#### Table of Contents <a name=\"toc\">\n",
    "\n",
    "- [**Question 4**](#q4)\n",
    "    - [Generating Discharge Samples](#q41)\n",
    "    - [Histogram of Discharge Samples](#q42)\n",
    "    - [Number of Cups with Overfill](#q43)\n",
    "    - [Discussion on the Slowness of For Loops](#q44)\n",
    "- [**Question 5**](#q5)\n",
    "    - [Generating Daily Consumption Data](#q51)\n",
    "    - [Histogram of Consumption Data](#q52)\n",
    "    - [Probability that Water Runs Out](#q53)\n",
    "    - [For Loop Comparison](#q54)"
   ]
  },
  {
   "cell_type": "code",
   "execution_count": 1,
   "metadata": {},
   "outputs": [],
   "source": [
    "import numpy as np\n",
    "import random \n",
    "import matplotlib.pyplot as plt\n",
    "from matplotlib.ticker import FuncFormatter\n",
    "import seaborn as sns"
   ]
  },
  {
   "cell_type": "markdown",
   "metadata": {},
   "source": [
    "### Question 4 <a name=\"q4\">\n",
    "\n",
    "A coffee machine is regulated so that it discharges an average of `200 milliliters` per cup. If the amount of drink is `normally distributed` with a standard deviation equal to `15 milliliters`, how many cups will probably overflow if `220-milliliter` cups are used for the next `500 drinks`?\n",
    "\n",
    "NOTE: Please provide answers up to 2 decimal places."
   ]
  },
  {
   "cell_type": "markdown",
   "metadata": {},
   "source": [
    "#### Generating Discharge Samples <a name=\"q41\">"
   ]
  },
  {
   "cell_type": "code",
   "execution_count": 2,
   "metadata": {},
   "outputs": [],
   "source": [
    "# given the following values from the problem\n",
    "n_samples = 500\n",
    "overflow_limit = 220\n",
    "mean_discharge = 200\n",
    "std_discharge = 15\n",
    "\n",
    "# assuming 1e6 number of runs for the simulation\n",
    "n_runs = 1000000\n",
    "\n",
    "# given the values for mean and standard deviation\n",
    "# and using n_runs to get a range of values from a normal distribution curve\n",
    "# we get a sample of discharge volumes\n",
    "discharge_samples = np.random.normal(mean_discharge, std_discharge, n_runs)"
   ]
  },
  {
   "cell_type": "markdown",
   "metadata": {},
   "source": [
    "#### Histogram of Discharge Samples <a name=\"q42\">"
   ]
  },
  {
   "cell_type": "code",
   "execution_count": 3,
   "metadata": {},
   "outputs": [
    {
     "data": {
      "image/png": "[encoded data removed]",
      "text/plain": [
       "<Figure size 640x480 with 1 Axes>"
      ]
     },
     "metadata": {
      "needs_background": "light"
     },
     "output_type": "display_data"
    }
   ],
   "source": [
    "# plotting the histogram of the discharge samples\n",
    "plt.figure(figsize=(8, 6), dpi=80)\n",
    "sns.histplot(discharge_samples, kde=True)\n",
    "plt.ylabel(\"Count\")\n",
    "plt.xlabel(\"Average Discharge\")\n",
    "plt.title(\"Distribution of Coffe Discharge\")\n",
    "plt.axvline(overflow_limit, color='k', linestyle='dashed', linewidth=1)\n",
    "plt.show()"
   ]
  },
  {
   "cell_type": "markdown",
   "metadata": {},
   "source": [
    "#### Number of Cups with Overfill <a name=\"q43\">"
   ]
  },
  {
   "cell_type": "markdown",
   "metadata": {},
   "source": [
    "The problem calls for the number of cups that will overflow for the next 500 drinks. Hence, the solution to that would be to find the area under the curve to the right of the vertical line in the plot above and multiply it by 500. But the above line is not an exact normal distribution curve. It approximates it, yes, but the plot above was generated using the values from `discharge_samples`. Thus the correct way to find the percentage of samples above the `overflow_limit` and use that percentage and multiply it to the sample size."
   ]
  },
  {
   "cell_type": "code",
   "execution_count": 4,
   "metadata": {},
   "outputs": [
    {
     "name": "stdout",
     "output_type": "stream",
     "text": [
      "CPU times: user 2.77 ms, sys: 103 µs, total: 2.87 ms\n",
      "Wall time: 1.59 ms\n"
     ]
    }
   ],
   "source": [
    "%%time\n",
    "# get the percentage of samples using np.mean directly\n",
    "percent_above_limit = np.mean(discharge_samples > overflow_limit)"
   ]
  },
  {
   "cell_type": "code",
   "execution_count": 5,
   "metadata": {},
   "outputs": [
    {
     "name": "stdout",
     "output_type": "stream",
     "text": [
      "CPU times: user 2.5 ms, sys: 0 ns, total: 2.5 ms\n",
      "Wall time: 1.83 ms\n"
     ]
    }
   ],
   "source": [
    "%%time\n",
    "# get the percentage of samples using np.greater wrapped in np.mean\n",
    "percent_above_limit2 = np.mean(np.greater(discharge_samples, overflow_limit))"
   ]
  },
  {
   "cell_type": "code",
   "execution_count": 6,
   "metadata": {},
   "outputs": [
    {
     "name": "stdout",
     "output_type": "stream",
     "text": [
      "The percentage of overflows is 9.12 %\n"
     ]
    }
   ],
   "source": [
    "print(\"The percentage of overflows is {:.2f} %\".format(percent_above_limit2 * 100))"
   ]
  },
  {
   "cell_type": "code",
   "execution_count": 7,
   "metadata": {},
   "outputs": [
    {
     "name": "stdout",
     "output_type": "stream",
     "text": [
      "The number of cups overflowing in the next 500 fills is approximately 45.62\n"
     ]
    }
   ],
   "source": [
    "print(\"The number of cups overflowing in the next {} fills is approximately {:.2f}\".format(n_samples, n_samples*percent_above_limit))"
   ]
  },
  {
   "cell_type": "markdown",
   "metadata": {},
   "source": [
    "#### Discussion on the Slowness of For Loops <a name=\"q44\">"
   ]
  },
  {
   "cell_type": "markdown",
   "metadata": {},
   "source": [
    "**Note** The `percent_above_limit` can also be obtained using a for loop. "
   ]
  },
  {
   "cell_type": "code",
   "execution_count": 8,
   "metadata": {},
   "outputs": [
    {
     "name": "stdout",
     "output_type": "stream",
     "text": [
      "CPU times: user 392 ms, sys: 258 µs, total: 393 ms\n",
      "Wall time: 394 ms\n"
     ]
    }
   ],
   "source": [
    "%%time\n",
    "counter = 0\n",
    "for i in discharge_samples:\n",
    "    if i > overflow_limit: \n",
    "        counter += 1\n",
    "        \n",
    "percent_above_limit3 = counter/n_runs"
   ]
  },
  {
   "cell_type": "code",
   "execution_count": 9,
   "metadata": {},
   "outputs": [
    {
     "name": "stdout",
     "output_type": "stream",
     "text": [
      "The percentage of overflows is 9.12 %\n"
     ]
    }
   ],
   "source": [
    "print(\"The percentage of overflows is {:.2f} %\".format(percent_above_limit3 * 100))"
   ]
  },
  {
   "cell_type": "markdown",
   "metadata": {},
   "source": [
    "But, as can be seen, the for loop implementation runs more than `100 times` slower than the vectorized approach. "
   ]
  },
  {
   "cell_type": "markdown",
   "metadata": {},
   "source": [
    "[back to top](#toc)"
   ]
  },
  {
   "cell_type": "markdown",
   "metadata": {},
   "source": [
    "### Question 5\n",
    "\n",
    "In a certain city, the daily consumption of water (in millions of liters) follows approximately a `gamma distribution` with `α = 2` and `β = 3`. If the daily capacity of that city is `9 million liters` of water, what is the probability that on any given day the water supply is inadequate?\n",
    "\n",
    "**NOTE:** The expected answer is in % form with up to `2 decimal places`. **DO NOT** put the % in the input box. If you get 0.5321 as answer, then write 53.21 in the input box."
   ]
  },
  {
   "cell_type": "markdown",
   "metadata": {},
   "source": [
    "#### Generating Daily Consumption Data <a name=\"q51\">"
   ]
  },
  {
   "cell_type": "code",
   "execution_count": 10,
   "metadata": {},
   "outputs": [],
   "source": [
    "# given \n",
    "alpha = 2\n",
    "beta = 3\n",
    "capacity = 9e6\n",
    "\n",
    "n_runs2 = 1000000\n",
    "\n",
    "# using the above values for a gamma distribution\n",
    "# n_runs2 of samples for the daily consumption was generated\n",
    "daily_consumption_samples = np.random.gamma(alpha, 1/beta, n_runs2) * capacity"
   ]
  },
  {
   "cell_type": "markdown",
   "metadata": {},
   "source": [
    "#### Histogram of Consumption Data <a name=\"q52\">"
   ]
  },
  {
   "cell_type": "code",
   "execution_count": 11,
   "metadata": {},
   "outputs": [],
   "source": [
    "# define a helper function for x_tick formatting\n",
    "def millions_formatter(x, pos):\n",
    "    return f'{x / 1000000}M'"
   ]
  },
  {
   "cell_type": "code",
   "execution_count": 12,
   "metadata": {},
   "outputs": [
    {
     "data": {
      "image/png": "[encoded data removed]",
      "text/plain": [
       "<Figure size 640x480 with 1 Axes>"
      ]
     },
     "metadata": {
      "needs_background": "light"
     },
     "output_type": "display_data"
    }
   ],
   "source": [
    "# plotting the histogram of the daily consumption samples\n",
    "fig, ax = plt.subplots(figsize=(8, 6), dpi=80)\n",
    "sns.histplot(daily_consumption_samples, kde=True)\n",
    "plt.ylabel(\"Count\")\n",
    "plt.xlabel(\"Average Consumption\")\n",
    "plt.title(\"Distribution of Daily Water Consumption\")\n",
    "plt.axvline(capacity, color='k', linestyle='dashed', linewidth=1)\n",
    "plt.xticks(np.arange(0, 50e6, 5e6))\n",
    "ax.xaxis.set_major_formatter(FuncFormatter(millions_formatter))\n",
    "plt.show()"
   ]
  },
  {
   "cell_type": "markdown",
   "metadata": {},
   "source": [
    "#### Probability that Water Runs Out <a name=\"q53\"><a name=\"q51\">"
   ]
  },
  {
   "cell_type": "markdown",
   "metadata": {},
   "source": [
    "This problem calls for the probability that, on a given day, the city runs out of water. In the histogram above, it is the area to the right. To get that, we obtain the number of days out of `n_runs2` where the water consumption goes beyond the `capacity` and divide it by `n_runs2`."
   ]
  },
  {
   "cell_type": "code",
   "execution_count": 13,
   "metadata": {},
   "outputs": [
    {
     "name": "stdout",
     "output_type": "stream",
     "text": [
      "CPU times: user 2.4 ms, sys: 62 µs, total: 2.46 ms\n",
      "Wall time: 1.58 ms\n"
     ]
    }
   ],
   "source": [
    "%%time\n",
    "# get the probability using np.mean directly\n",
    "probability_water_runs_out = np.mean(daily_consumption_samples > capacity)"
   ]
  },
  {
   "cell_type": "code",
   "execution_count": 14,
   "metadata": {},
   "outputs": [
    {
     "name": "stdout",
     "output_type": "stream",
     "text": [
      "The probability that water runs out for a given day is 19.89 %\n"
     ]
    }
   ],
   "source": [
    "print(\"The probability that water runs out for a given day is {:.2f} %\".format(probability_water_runs_out * 100))"
   ]
  },
  {
   "cell_type": "markdown",
   "metadata": {},
   "source": [
    "#### For Loop Comparison <a name=\"q54\">"
   ]
  },
  {
   "cell_type": "markdown",
   "metadata": {},
   "source": [
    "Showing the `for loop` implementation. "
   ]
  },
  {
   "cell_type": "code",
   "execution_count": 15,
   "metadata": {},
   "outputs": [
    {
     "name": "stdout",
     "output_type": "stream",
     "text": [
      "CPU times: user 230 ms, sys: 32 µs, total: 230 ms\n",
      "Wall time: 228 ms\n"
     ]
    }
   ],
   "source": [
    "%%time\n",
    "counter2 = 0\n",
    "for j in daily_consumption_samples:\n",
    "    if j > capacity: \n",
    "        counter2 += 1\n",
    "        \n",
    "probability_water_runs_out2 = counter2/n_runs2"
   ]
  },
  {
   "cell_type": "code",
   "execution_count": 16,
   "metadata": {},
   "outputs": [
    {
     "name": "stdout",
     "output_type": "stream",
     "text": [
      "The probability that water runs out for a given day is 19.89 %\n"
     ]
    }
   ],
   "source": [
    "print(\"The probability that water runs out for a given day is {:.2f} %\".format(probability_water_runs_out2 * 100))"
   ]
  },
  {
   "cell_type": "markdown",
   "metadata": {},
   "source": [
    "Again, the `for loop` runs slower."
   ]
  },
  {
   "cell_type": "markdown",
   "metadata": {},
   "source": [
    "[back to top](#toc)\n",
    "\n",
    "--end-- <a name=\"end\">"
   ]
  }
 ],
 "metadata": {
  "kernelspec": {
   "display_name": "Python 3",
   "language": "python",
   "name": "python3"
  },
  "language_info": {
   "codemirror_mode": {
    "name": "ipython",
    "version": 3
   },
   "file_extension": ".py",
   "mimetype": "text/x-python",
   "name": "python",
   "nbconvert_exporter": "python",
   "pygments_lexer": "ipython3",
   "version": "3.8.5"
  }
 },
 "nbformat": 4,
 "nbformat_minor": 4
}
