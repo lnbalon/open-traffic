{
 "cells": [
  {
   "cell_type": "markdown",
   "metadata": {},
   "source": [
    "### Notes on Linear Programming\n",
    "\n",
    "\n",
    "For this, we need to install `PuLP`--a Python package for linear programming. \n",
    "\n",
    "In the `conda` environment, type:\n",
    "\n",
    "```conda install -c conda-forge pulp```\n",
    "\n",
    "For more info on `PuLP`, go to this [link](https://github.com/coin-or/pulp).\n",
    "\n",
    "1. In using `PuLP` the key is to find the correct set of equations. \n",
    "2. Know if the problem is a maximization or minimization problem. \n",
    "3. Ensure that all constraints are encoded correctly. "
   ]
  },
  {
   "cell_type": "code",
   "execution_count": 1,
   "metadata": {},
   "outputs": [],
   "source": [
    "from pulp import LpMaximize, LpProblem, LpStatus, lpSum, LpVariable, LpMinimize"
   ]
  },
  {
   "cell_type": "markdown",
   "metadata": {},
   "source": [
    "#### The Spa Problem\n",
    "\n",
    "- Maximize the profit: $ 350X1 +300X2  $\n",
    "- Pump restrictions: $ 9X1 + 6X2 <= 1556 $\n",
    "- Tubing restrictions: $ 12X1 + 16X2 <= 2880 $\n",
    "- Non-zero restrictions: $X1, X2 >= 0 $\n"
   ]
  },
  {
   "cell_type": "code",
   "execution_count": 2,
   "metadata": {},
   "outputs": [
    {
     "name": "stdout",
     "output_type": "stream",
     "text": [
      "status: 1, Optimal\n",
      "objective: 66100.0\n",
      "x1: 122.0\n",
      "x2: 78.0\n",
      "pumps: 0.0\n",
      "labor: 0.0\n",
      "tubing: -168.0\n",
      "positive_x1: 122.0\n",
      "positive_x2: 78.0\n"
     ]
    }
   ],
   "source": [
    "# Define the model\n",
    "model = LpProblem(name=\"spa\", sense=LpMaximize)\n",
    "\n",
    "# Define the decision variables\n",
    "x = {i: LpVariable(name=f\"x{i}\", lowBound=0) for i in range(1, 3)}\n",
    "\n",
    "# Add constraints\n",
    "model += (x[1] + x[2] <= 200, \"pumps\")\n",
    "model += (9 * x[1] + 6 * x[2] <= 1566, \"labor\")\n",
    "model += (12 * x[1] + 16 * x[2] <= 2880, \"tubing\")\n",
    "model += (x[1] >= 0, \"positive-x1\")\n",
    "model += (x[2] >= 0, \"positive-x2\")\n",
    "\n",
    "\n",
    "# Set the objective\n",
    "model += 350 * x[1] + 300 * x[2]\n",
    "\n",
    "# Solve the optimization problem\n",
    "status = model.solve()\n",
    "\n",
    "# Get the results\n",
    "print(f\"status: {model.status}, {LpStatus[model.status]}\")\n",
    "print(f\"objective: {model.objective.value()}\")\n",
    "\n",
    "for var in x.values():\n",
    "    print(f\"{var.name}: {var.value()}\")\n",
    "\n",
    "for name, constraint in model.constraints.items():\n",
    "    print(f\"{name}: {constraint.value()}\")\n"
   ]
  },
  {
   "cell_type": "markdown",
   "metadata": {},
   "source": [
    "#### Unit Production Problem\n",
    "\n",
    "Assign the following variables: \n",
    "\n",
    "- $X1$ Number of Model 1 to produce\n",
    "- $X2$ Number of Model 2 to produce\n",
    "- $X3$ Number of Model 3 to produce\n",
    "- $X4$ Number of Model 1 to buy\n",
    "- $X5$ Number of Model 2 to buy\n",
    "- $X6$ Number of Model 3 to buy\n",
    "\n",
    "Set the following constraints:\n",
    "\n",
    "- $X1 + X4 = 3000$ Total number of Model 1 to produce\n",
    "- $X2 + X5 = 2000$ Total number of Model 2 to produce\n",
    "- $X3 + X6 = 900$ Total number of Model 3 to produce\n",
    "- $ 2X1 + 1.5X2 + 2X3 <= 10000 $ The wiring limit\n",
    "- $ 1X1 + 2X2 + 1X3 <= 5000 $ The harness limit\n",
    "\n",
    "Then maximize this equation (the coefficients are the price to |produce/buy): \n",
    "\n",
    "$ 50 * X1 + 83 * X2 + 130 * X3 + 61 * X4 + 97 * X5 + 145 * X6 $ "
   ]
  },
  {
   "cell_type": "code",
   "execution_count": 3,
   "metadata": {},
   "outputs": [
    {
     "name": "stdout",
     "output_type": "stream",
     "text": [
      "status: 1, Optimal\n",
      "objective: 453300.0\n",
      "x1: 3000.0\n",
      "x2: 550.0\n",
      "x3: 900.0\n",
      "x4: 0.0\n",
      "x5: 1450.0\n",
      "x6: 0.0\n",
      "wiring: -475.0\n",
      "harnessing: 0.0\n",
      "model1: 0.0\n",
      "model2: 0.0\n",
      "model3: 0.0\n"
     ]
    }
   ],
   "source": [
    "# Define the model\n",
    "model = LpProblem(name=\"unit\", sense=LpMinimize)\n",
    "\n",
    "# Define the decision variables\n",
    "x = {i: LpVariable(name=f\"x{i}\", lowBound=0) for i in range(1, 7)}\n",
    "\n",
    "# Add constraints\n",
    "model += (2 * x[1] + 1.5 * x[2] + 3 * x[3] <= 10000, \"wiring\")\n",
    "model += (1 * x[1] + 2 * x[2] + 1 * x[3] <= 5000, \"harnessing\")\n",
    "model += (x[1] +  x[4] == 3000, \"model1\")\n",
    "model += (x[2] +  x[5] == 2000, \"model2\")\n",
    "model += (x[3] +  x[6] == 900, \"model3\")\n",
    "\n",
    "\n",
    "# Set the objective\n",
    "model += 50 * x[1] + 83 * x[2] + 130 * x[3] + 61 * x[4] + 97 * x[5] + 145 * x[6]\n",
    "\n",
    "# Solve the optimization problem\n",
    "status = model.solve()\n",
    "\n",
    "# Get the results\n",
    "print(f\"status: {model.status}, {LpStatus[model.status]}\")\n",
    "print(f\"objective: {model.objective.value()}\")\n",
    "\n",
    "for var in x.values():\n",
    "    print(f\"{var.name}: {var.value()}\")\n",
    "\n",
    "for name, constraint in model.constraints.items():\n",
    "    print(f\"{name}: {constraint.value()}\")\n"
   ]
  },
  {
   "cell_type": "markdown",
   "metadata": {},
   "source": [
    "#### The Investment Problem\n",
    "\n",
    "- Total money to invest: $750,000$\n",
    "\n",
    "Assign the following variables: \n",
    "\n",
    "    - X1 Amount to invest in AcmeChemical\n",
    "    - X2 Amount to invest in DynaStar\n",
    "    - X3 Amount to invest in Eagle Vision\n",
    "    - X4 Amount to invest in Micr0 Modelling\n",
    "    - X5 Amount to invest in OptiPro\n",
    "    - X6 Amount to invest in Sabre Systems\n",
    "\n",
    "- No amount should be greater than $ 187,500 $\n",
    "- $X1$, $X2$, and $X4$ combined should form at least half of the total investment.\n",
    "- $X2$, $X3$, and $X5$ combined must not exceed $ 262,500 $\n",
    "- All values must be positive."
   ]
  },
  {
   "cell_type": "code",
   "execution_count": 4,
   "metadata": {},
   "outputs": [
    {
     "name": "stdout",
     "output_type": "stream",
     "text": [
      "status: 1, Optimal\n",
      "objective: 68887.5\n",
      "x1: 112500.0\n",
      "x2: 75000.0\n",
      "x3: 187500.0\n",
      "x4: 187500.0\n",
      "x5: 0.0\n",
      "x6: 187500.0\n",
      "total: 0.0\n",
      "quarter_restriction1: -75000.0\n",
      "quarter_restriction2: -112500.0\n",
      "quarter_restriction3: 0.0\n",
      "quarter_restriction4: 0.0\n",
      "quarter_restriction5: -187500.0\n",
      "quarter_restriction6: 0.0\n",
      "restriction7: 187500.0\n",
      "restriction8: 0.0\n",
      "positive_restriction1: 112500.0\n",
      "positive_restriction2: 75000.0\n",
      "positive_restriction3: 187500.0\n",
      "positive_restriction4: 187500.0\n",
      "positive_restriction5: 0.0\n",
      "positive_restriction6: 187500.0\n"
     ]
    }
   ],
   "source": [
    "# Define the model\n",
    "model = LpProblem(name=\"invest\", sense=LpMaximize)\n",
    "\n",
    "# Define the decision variables\n",
    "x = {i: LpVariable(name=f\"x{i}\", lowBound=0) for i in range(1, 7)}\n",
    "\n",
    "# Add constraints\n",
    "model += (x[1] + x[2] + x[3] + x[4] + x[5] + x[6] == 750000, \"total\")\n",
    "for i in range(1,7):\n",
    "    model += (x[i] <= 187500, f\"quarter_restriction{i}\")\n",
    "model += (x[1] + x[2] + x[4] + x[6] >= 375000, \"restriction7\")\n",
    "model += (x[2] + x[3] + x[5] <= 262500, \"restriction8\")\n",
    "for i in range(1,7):\n",
    "    model += (x[i] >=0, f\"positive_restriction{i}\")\n",
    "\n",
    "# Set the objective\n",
    "model += 0.0865 * x[1] + 0.095 * x[2] + 0.1 * x[3] + 0.0875 * x[4] + 0.0925 * x[5] + 0.09 * x[6]\n",
    "\n",
    "# Solve the optimization problem\n",
    "status = model.solve()\n",
    "\n",
    "# Get the results\n",
    "print(f\"status: {model.status}, {LpStatus[model.status]}\")\n",
    "print(f\"objective: {model.objective.value()}\")\n",
    "\n",
    "for var in x.values():\n",
    "    print(f\"{var.name}: {var.value()}\")\n",
    "\n",
    "for name, constraint in model.constraints.items():\n",
    "    print(f\"{name}: {constraint.value()}\")"
   ]
  },
  {
   "cell_type": "markdown",
   "metadata": {},
   "source": [
    "#### The Toy Problem\n",
    "\n",
    "- $X1$ Number of planes to produce\n",
    "- $X2$ Number of boats to product\n",
    "- The making limit: $ 3X1 + X2 <= 120 $\n",
    "- The finishing limit: $X1 + 2X2 <= 160 $\n",
    "- Boat limit:  $x<= 35$\n",
    "- Non-zero: $X1, X2 >= 0 $"
   ]
  },
  {
   "cell_type": "code",
   "execution_count": 5,
   "metadata": {},
   "outputs": [
    {
     "name": "stdout",
     "output_type": "stream",
     "text": [
      "status: 1, Optimal\n",
      "objective: 544.0\n",
      "x1: 16.0\n",
      "x2: 72.0\n",
      "making: 0.0\n",
      "finishing: 0.0\n",
      "planes: -19.0\n",
      "non_zero1: 16.0\n",
      "non_zero2: 72.0\n"
     ]
    }
   ],
   "source": [
    "# Define the model\n",
    "model = LpProblem(name=\"pototoy\", sense=LpMaximize)\n",
    "\n",
    "# Define the decision variables\n",
    "x = {i: LpVariable(name=f\"x{i}\", lowBound=0) for i in range(1, 3)}\n",
    "\n",
    "# Add constraints\n",
    "model += (3 * x[1] + x[2]  <= 120, \"making\")\n",
    "model += (x[1] + 2 * x[2]  <= 160, \"finishing\")\n",
    "model += (x[1]  <= 35, \"planes\")\n",
    "model += (x[1] >= 0, \"non-zero1\")\n",
    "model += (x[2] >= 0, \"non-zero2\")\n",
    "\n",
    "# Set the objective\n",
    "model += 7 * x[1] + 6 * x[2] \n",
    "\n",
    "# Solve the optimization problem\n",
    "status = model.solve()\n",
    "\n",
    "# Get the results\n",
    "print(f\"status: {model.status}, {LpStatus[model.status]}\")\n",
    "print(f\"objective: {model.objective.value()}\")\n",
    "\n",
    "for var in x.values():\n",
    "    print(f\"{var.name}: {var.value()}\")\n",
    "\n",
    "for name, constraint in model.constraints.items():\n",
    "    print(f\"{name}: {constraint.value()}\")"
   ]
  },
  {
   "cell_type": "markdown",
   "metadata": {},
   "source": [
    "#### The Mamaro\n",
    "\n",
    "Let $X1$ => Insurance, and $X2$ => Mortgage\n",
    "\n",
    "- Underwriting: $3X1 + 2X2 <= 2400$\n",
    "- Admin: $X2 <= 800$\n",
    "- Claims: $2X1 <= 1200$\n",
    "- Maximize: $5X1 + 2X2$"
   ]
  },
  {
   "cell_type": "code",
   "execution_count": 6,
   "metadata": {},
   "outputs": [
    {
     "name": "stdout",
     "output_type": "stream",
     "text": [
      "status: 1, Optimal\n",
      "objective: 3600.0\n",
      "x1: 600.0\n",
      "x2: 300.0\n",
      "underwriting: 0.0\n",
      "admin: -500.0\n",
      "claims: 0.0\n",
      "non_zero1: 600.0\n",
      "non_zero2: 300.0\n"
     ]
    }
   ],
   "source": [
    "# Define the model\n",
    "model = LpProblem(name=\"contest\", sense=LpMaximize)\n",
    "\n",
    "# Define the decision variables\n",
    "x = {i: LpVariable(name=f\"x{i}\", lowBound=0) for i in range(1, 3)}\n",
    "\n",
    "# Add constraints\n",
    "model += (3 * x[1] + 2 * x[2]  <= 2400, \"underwriting\")\n",
    "model += ( x[2]  <= 800, \"admin\")\n",
    "model += (2 * x[1]  <= 1200, \"claims\")\n",
    "model += (x[1] >= 0, \"non-zero1\")\n",
    "model += (x[2] >= 0, \"non-zero2\")\n",
    "\n",
    "# Set the objective\n",
    "model += 5 * x[1] + 2 * x[2] \n",
    "\n",
    "# Solve the optimization problem\n",
    "status = model.solve()\n",
    "\n",
    "# Get the results\n",
    "print(f\"status: {model.status}, {LpStatus[model.status]}\")\n",
    "print(f\"objective: {model.objective.value()}\")\n",
    "\n",
    "for var in x.values():\n",
    "    print(f\"{var.name}: {var.value()}\")\n",
    "\n",
    "for name, constraint in model.constraints.items():\n",
    "    print(f\"{name}: {constraint.value()}\")"
   ]
  },
  {
   "cell_type": "markdown",
   "metadata": {},
   "source": [
    "#### Corn and Soy Meal Problem\n",
    "\n",
    "Let $X1$ and $X2$ for the amount of corn and soy meal in lbs, respectively. \n",
    "\n",
    "Constraints:\n",
    "\n",
    "- $(1/16) * X1 + (1.5/16) * X2 >= 45/16 $ on N1 content\n",
    "- $(2/16) * X1 + (0.5/16) * X2 >= 40/16 $ on N2 content\n",
    "- $ X1 + X2 <= 40 $ on the total \n",
    "- Non-zero : $X1, X2 >= 0 $"
   ]
  },
  {
   "cell_type": "code",
   "execution_count": 10,
   "metadata": {},
   "outputs": [
    {
     "name": "stdout",
     "output_type": "stream",
     "text": [
      "status: 1, Optimal\n",
      "objective: 2000.0\n",
      "x1: 30.0\n",
      "x2: 10.0\n",
      "n1: 0.0\n",
      "n2: 1.5625\n",
      "total: 0.0\n",
      "non_zero1: 30.0\n",
      "non_zero2: 10.0\n"
     ]
    }
   ],
   "source": [
    "# Define the model\n",
    "model = LpProblem(name=\"contest2\", sense=LpMinimize)\n",
    "\n",
    "# Define the decision variables\n",
    "x = {i: LpVariable(name=f\"x{i}\", lowBound=0) for i in range(1, 3)}\n",
    "\n",
    "# Add constraints\n",
    "model += ( (1/16) * x[1] + (1.5/16) * x[2] >= 45/16, \"n1\")\n",
    "model += ( (2/16) * x[1] + (0.5/16) * x[2] >= 40/16, \"n2\")\n",
    "model += (x[1] + x[2]  <= 40, \"total\")\n",
    "model += (x[1] >= 0, \"non-zero1\")\n",
    "model += (x[2] >= 0, \"non-zero2\")\n",
    "\n",
    "# Set the objective\n",
    "model += 40 * x[1] + 80 * x[2] \n",
    "\n",
    "# Solve the optimization problem\n",
    "status = model.solve()\n",
    "\n",
    "# Get the results\n",
    "print(f\"status: {model.status}, {LpStatus[model.status]}\")\n",
    "print(f\"objective: {model.objective.value()}\")\n",
    "\n",
    "for var in x.values():\n",
    "    print(f\"{var.name}: {var.value()}\")\n",
    "\n",
    "for name, constraint in model.constraints.items():\n",
    "    print(f\"{name}: {constraint.value()}\")"
   ]
  },
  {
   "cell_type": "code",
   "execution_count": null,
   "metadata": {},
   "outputs": [],
   "source": []
  },
  {
   "cell_type": "code",
   "execution_count": 14,
   "metadata": {},
   "outputs": [
    {
     "name": "stdout",
     "output_type": "stream",
     "text": [
      "status: 1, Optimal\n",
      "objective: 40.0\n",
      "x1: 0.0\n",
      "x2: 8.0\n",
      "restriction1: -20.0\n",
      "restriction2: 0.0\n",
      "restriction3: 0.0\n",
      "non_zero1: 0.0\n",
      "non_zero2: 8.0\n"
     ]
    }
   ],
   "source": [
    "# Define the model\n",
    "model = LpProblem(name=\"question2\", sense=LpMaximize)\n",
    "\n",
    "# Define the decision variables\n",
    "x = {i: LpVariable(name=f\"x{i}\", lowBound=0) for i in range(1, 3)}\n",
    "\n",
    "# Add constraints\n",
    "model += (6 * x[1] + 5 * x[2] <= 60, \"restriction1\")\n",
    "model += (2 * x[1] + 3 * x[2] <= 24, \"restriction2\")\n",
    "model += (3 * x[1] + 6 * x[2] <= 48, \"restriction3\")\n",
    "model += (x[1] >= 0, \"non-zero1\")\n",
    "model += (x[2] >= 0, \"non-zero2\")\n",
    "\n",
    "# Set the objective\n",
    "model += 2 * x[1] + 5 * x[2] \n",
    "\n",
    "# Solve the optimization problem\n",
    "status = model.solve()\n",
    "\n",
    "# Get the results\n",
    "print(f\"status: {model.status}, {LpStatus[model.status]}\")\n",
    "print(f\"objective: {model.objective.value()}\")\n",
    "\n",
    "for var in x.values():\n",
    "    print(f\"{var.name}: {var.value()}\")\n",
    "\n",
    "for name, constraint in model.constraints.items():\n",
    "    print(f\"{name}: {constraint.value()}\")"
   ]
  },
  {
   "cell_type": "markdown",
   "metadata": {},
   "source": [
    "#### Blacktop Refining\n",
    "\n",
    "Let: \n",
    "\n",
    "$ X_{1} $, be Type 1\n",
    "$ X_{2} $, be Type 2 \n",
    "\n",
    "Systems of equation:\n",
    "\n",
    "For Cu:\n",
    "$$ 0.2X_{1} + 0.3X_{2} >= 8 $$ \n",
    "\n",
    "For Zn:\n",
    "$$ 0.2X_{1} + 0.25X_{2} >= 6 $$ \n",
    "\n",
    "For Mg:\n",
    "$$ 0.15X_{1} + 0.1X_{2} >= 5 $$ \n",
    "\n",
    "Optimal Solution:\n",
    "\n",
    "$$ 90X_{1} + 120X_{2} $$"
   ]
  },
  {
   "cell_type": "code",
   "execution_count": 12,
   "metadata": {},
   "outputs": [
    {
     "name": "stdout",
     "output_type": "stream",
     "text": [
      "status: 1, Optimal\n",
      "objective: 3480.0\n",
      "x1: 28.0\n",
      "x2: 8.0\n",
      "restriction1: 4.440892098500626e-16\n",
      "restriction2: 1.6000000000000005\n",
      "restriction3: 2.220446049250313e-16\n",
      "non_zero1: 28.0\n",
      "non_zero2: 8.0\n"
     ]
    }
   ],
   "source": [
    "# Define the model\n",
    "model = LpProblem(name=\"question2\", sense=LpMinimize)\n",
    "\n",
    "# Define the decision variables\n",
    "x = {i: LpVariable(name=f\"x{i}\", lowBound=0) for i in range(1, 3)}\n",
    "\n",
    "# Add constraints\n",
    "model += (0.2 * x[1] + 0.3 * x[2] >= 8, \"restriction1\")\n",
    "model += (0.2 * x[1] + 0.25 * x[2] >= 6, \"restriction2\")\n",
    "model += (0.15 * x[1] + 0.1 * x[2] >= 5, \"restriction3\")\n",
    "model += (x[1] >= 0, \"non-zero1\")\n",
    "model += (x[2] >= 0, \"non-zero2\")\n",
    "\n",
    "# Set the objective\n",
    "model += 90 * x[1] + 120 * x[2] \n",
    "\n",
    "# Solve the optimization problem\n",
    "status = model.solve()\n",
    "\n",
    "# Get the results\n",
    "print(f\"status: {model.status}, {LpStatus[model.status]}\")\n",
    "print(f\"objective: {model.objective.value()}\")\n",
    "\n",
    "for var in x.values():\n",
    "    print(f\"{var.name}: {var.value()}\")\n",
    "\n",
    "for name, constraint in model.constraints.items():\n",
    "    print(f\"{name}: {constraint.value()}\")"
   ]
  },
  {
   "cell_type": "code",
   "execution_count": 13,
   "metadata": {},
   "outputs": [
    {
     "name": "stdout",
     "output_type": "stream",
     "text": [
      "status: 1, Optimal\n",
      "objective: 3480.0\n",
      "x1: 28.0\n",
      "x2: 8.0\n",
      "restriction1: 4.440892098500626e-16\n",
      "restriction2: 1.6000000000000005\n",
      "restriction3: 2.220446049250313e-16\n",
      "non_zero1: 28.0\n",
      "non_zero2: 8.0\n"
     ]
    }
   ],
   "source": [
    "# Define the model\n",
    "model = LpProblem(name=\"question2\", sense=LpMinimize)\n",
    "\n",
    "# Define the decision variables\n",
    "x = {i: LpVariable(name=f\"x{i}\", lowBound=0) for i in range(1, 3)}\n",
    "\n",
    "# Add constraints\n",
    "model += (.2* x[1] + .3 * x[2] >= 8, \"restriction1\")\n",
    "model += (.2 * x[1] + .25 * x[2] >= 6, \"restriction2\")\n",
    "model += (.15* x[1] + (1/10) * x[2] >= 5, \"restriction3\")\n",
    "model += (x[1] >= 0, \"non-zero1\")\n",
    "model += (x[2] >= 0, \"non-zero2\")\n",
    "\n",
    "# Set the objective\n",
    "model += 90 * x[1] + 120 * x[2] \n",
    "\n",
    "# Solve the optimization problem\n",
    "status = model.solve()\n",
    "\n",
    "# Get the results\n",
    "print(f\"status: {model.status}, {LpStatus[model.status]}\")\n",
    "print(f\"objective: {model.objective.value()}\")\n",
    "\n",
    "for var in x.values():\n",
    "    print(f\"{var.name}: {var.value()}\")\n",
    "\n",
    "for name, constraint in model.constraints.items():\n",
    "    print(f\"{name}: {constraint.value()}\")"
   ]
  }
 ],
 "metadata": {
  "kernelspec": {
   "display_name": "Python 3",
   "language": "python",
   "name": "python3"
  },
  "language_info": {
   "codemirror_mode": {
    "name": "ipython",
    "version": 3
   },
   "file_extension": ".py",
   "mimetype": "text/x-python",
   "name": "python",
   "nbconvert_exporter": "python",
   "pygments_lexer": "ipython3",
   "version": "3.8.5"
  }
 },
 "nbformat": 4,
 "nbformat_minor": 4
}
